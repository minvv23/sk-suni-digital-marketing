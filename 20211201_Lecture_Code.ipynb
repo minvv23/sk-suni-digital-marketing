{
 "cells": [
  {
   "cell_type": "code",
   "execution_count": 156,
   "metadata": {},
   "outputs": [],
   "source": [
    "import re\n",
    "import pandas as pd\n",
    "import numpy as np\n",
    "import json\n",
    "import time\n",
    "from datetime import datetime, timedelta\n",
    "\n",
    "import requests\n",
    "from bs4 import BeautifulSoup\n",
    "from tqdm import tqdm\n",
    "from collections import Counter\n",
    "from itertools import chain\n",
    "from operator import itemgetter"
   ]
  },
  {
   "cell_type": "code",
   "execution_count": 157,
   "metadata": {},
   "outputs": [],
   "source": [
    "basic_header = {\"User-Agent\":\"Mozilla/5.0 (Macintosh; Intel Mac OS X 10_9_5)\\AppleWebKit 537.36 (KHTML, like Gecko) Chrome\",\n",
    "                \"Accept\":\"text/html,application/xhtml+xml,application/xml;\\q=0.9,imgwebp,*/*;q=0.8\"}\n",
    "\n",
    "url = 'http://underscore.kr/'\n",
    "\n",
    "session = requests.Session()\n",
    "req = session.get(url, headers=basic_header, allow_redirects=True)\n",
    "soup = BeautifulSoup(req.text, 'lxml')"
   ]
  },
  {
   "cell_type": "code",
   "execution_count": 159,
   "metadata": {},
   "outputs": [],
   "source": [
    "title_list = []\n",
    "url_list = []\n",
    "date_list = []\n",
    "\n",
    "for h2 in soup.find_all('h2') :\n",
    "    title_list.append(h2.a.text)\n",
    "    url_list.append(h2.a['href'])\n",
    "\n",
    "for span in soup.find_all('span', {'class':'posted-on'}) :\n",
    "    date_list.append(span.a.time['datetime'])"
   ]
  },
  {
   "cell_type": "code",
   "execution_count": 160,
   "metadata": {},
   "outputs": [],
   "source": [
    "tag_list = []\n",
    "for each_cardnews_url in url_list :\n",
    "    time.sleep(1)\n",
    "    req = session.get(each_cardnews_url, headers=basic_header, allow_redirects=True)\n",
    "    cnsoup = BeautifulSoup(req.text, 'lxml')\n",
    "\n",
    "    each_tag_list = []\n",
    "    for a in cnsoup.find('span', {'class':'tags-links'}).find_all('a') :\n",
    "        each_tag_list.append(a.text)\n",
    "    tag_list.append(each_tag_list)"
   ]
  },
  {
   "cell_type": "code",
   "execution_count": 161,
   "metadata": {},
   "outputs": [
    {
     "data": {
      "text/html": [
       "<div>\n",
       "<style scoped>\n",
       "    .dataframe tbody tr th:only-of-type {\n",
       "        vertical-align: middle;\n",
       "    }\n",
       "\n",
       "    .dataframe tbody tr th {\n",
       "        vertical-align: top;\n",
       "    }\n",
       "\n",
       "    .dataframe thead th {\n",
       "        text-align: right;\n",
       "    }\n",
       "</style>\n",
       "<table border=\"1\" class=\"dataframe\">\n",
       "  <thead>\n",
       "    <tr style=\"text-align: right;\">\n",
       "      <th></th>\n",
       "      <th>title</th>\n",
       "      <th>url</th>\n",
       "      <th>date</th>\n",
       "      <th>ko_length</th>\n",
       "      <th>en_length</th>\n",
       "      <th>tag</th>\n",
       "    </tr>\n",
       "  </thead>\n",
       "  <tbody>\n",
       "    <tr>\n",
       "      <th>0</th>\n",
       "      <td>왜 자꾸 어그로를 끄는 거야!</td>\n",
       "      <td>http://underscore.kr/istrollingcontagious/</td>\n",
       "      <td>2018-09-28T19:30:42+00:00</td>\n",
       "      <td>16</td>\n",
       "      <td>42</td>\n",
       "      <td>[사회학]</td>\n",
       "    </tr>\n",
       "    <tr>\n",
       "      <th>1</th>\n",
       "      <td>페이스북으로 ‘정잘알’이 될 수 있을까?</td>\n",
       "      <td>http://underscore.kr/politaku/</td>\n",
       "      <td>2018-09-16T00:20:45+00:00</td>\n",
       "      <td>22</td>\n",
       "      <td>30</td>\n",
       "      <td>[미디어, 심리학]</td>\n",
       "    </tr>\n",
       "    <tr>\n",
       "      <th>2</th>\n",
       "      <td>당신은 남자답지 않습니다</td>\n",
       "      <td>http://underscore.kr/genderindanger/</td>\n",
       "      <td>2018-09-08T21:34:23+00:00</td>\n",
       "      <td>13</td>\n",
       "      <td>36</td>\n",
       "      <td>[사회학]</td>\n",
       "    </tr>\n",
       "    <tr>\n",
       "      <th>3</th>\n",
       "      <td>좋은 고등학교를 가면 대학 입시에서 유리할까?</td>\n",
       "      <td>http://underscore.kr/goodhigschoolanduniv/</td>\n",
       "      <td>2018-08-28T20:01:28+00:00</td>\n",
       "      <td>25</td>\n",
       "      <td>42</td>\n",
       "      <td>[사회학]</td>\n",
       "    </tr>\n",
       "    <tr>\n",
       "      <th>4</th>\n",
       "      <td>덥다, 더워! 데이터가 알려주는 더위와 자살률의 관계</td>\n",
       "      <td>http://underscore.kr/hotweatherkillspeople/</td>\n",
       "      <td>2018-08-13T20:53:25+00:00</td>\n",
       "      <td>29</td>\n",
       "      <td>43</td>\n",
       "      <td>[심리학]</td>\n",
       "    </tr>\n",
       "    <tr>\n",
       "      <th>5</th>\n",
       "      <td>진짜로 잘 모르는 사람이 더 용감할까?</td>\n",
       "      <td>http://underscore.kr/arenoobsmoreconfident/</td>\n",
       "      <td>2018-08-02T17:58:36+00:00</td>\n",
       "      <td>21</td>\n",
       "      <td>43</td>\n",
       "      <td>[심리학]</td>\n",
       "    </tr>\n",
       "  </tbody>\n",
       "</table>\n",
       "</div>"
      ],
      "text/plain": [
       "                           title                                          url  \\\n",
       "0               왜 자꾸 어그로를 끄는 거야!   http://underscore.kr/istrollingcontagious/   \n",
       "1         페이스북으로 ‘정잘알’이 될 수 있을까?               http://underscore.kr/politaku/   \n",
       "2                  당신은 남자답지 않습니다         http://underscore.kr/genderindanger/   \n",
       "3      좋은 고등학교를 가면 대학 입시에서 유리할까?   http://underscore.kr/goodhigschoolanduniv/   \n",
       "4  덥다, 더워! 데이터가 알려주는 더위와 자살률의 관계  http://underscore.kr/hotweatherkillspeople/   \n",
       "5          진짜로 잘 모르는 사람이 더 용감할까?  http://underscore.kr/arenoobsmoreconfident/   \n",
       "\n",
       "                        date  ko_length  en_length         tag  \n",
       "0  2018-09-28T19:30:42+00:00         16         42       [사회학]  \n",
       "1  2018-09-16T00:20:45+00:00         22         30  [미디어, 심리학]  \n",
       "2  2018-09-08T21:34:23+00:00         13         36       [사회학]  \n",
       "3  2018-08-28T20:01:28+00:00         25         42       [사회학]  \n",
       "4  2018-08-13T20:53:25+00:00         29         43       [심리학]  \n",
       "5  2018-08-02T17:58:36+00:00         21         43       [심리학]  "
      ]
     },
     "execution_count": 161,
     "metadata": {},
     "output_type": "execute_result"
    }
   ],
   "source": [
    "usdf = pd.DataFrame(zip(title_list, url_list, date_list), columns=['title', 'url', 'date'])\n",
    "usdf['ko_length'] = usdf['title'].str.len()\n",
    "usdf['en_length'] = usdf['url'].str.len()\n",
    "usdf['tag'] = tag_list\n",
    "\n",
    "usdf"
   ]
  },
  {
   "cell_type": "code",
   "execution_count": null,
   "metadata": {},
   "outputs": [],
   "source": [
    "'https://www.marketwatch.com/latest-news?messageNumber=13300&channelId=c509787a-3aa4-48b1-8cc9-ac4aff762258&position=1.3&partial=true'\n",
    "'https://www.marketwatch.com/latest-news?messageNumber=13258&channelId=c509787a-3aa4-48b1-8cc9-ac4aff762258&position=1.3&partial=true'\n",
    "'https://www.marketwatch.com/latest-news?messageNumber=13225&channelId=c509787a-3aa4-48b1-8cc9-ac4aff762258&position=1.3&partial=true'\n",
    "'https://www.marketwatch.com/latest-news?messageNumber=13203&channelId=c509787a-3aa4-48b1-8cc9-ac4aff762258&position=1.3&partial=true'"
   ]
  }
 ],
 "metadata": {
  "kernelspec": {
   "display_name": "Python 3",
   "language": "python",
   "name": "python3"
  },
  "language_info": {
   "codemirror_mode": {
    "name": "ipython",
    "version": 3
   },
   "file_extension": ".py",
   "mimetype": "text/x-python",
   "name": "python",
   "nbconvert_exporter": "python",
   "pygments_lexer": "ipython3",
   "version": "3.7.0"
  }
 },
 "nbformat": 4,
 "nbformat_minor": 4
}
